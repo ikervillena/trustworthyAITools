{
  "cells": [
    {
      "attachments": {},
      "cell_type": "markdown",
      "metadata": {
        "id": "DcwNpWiP9QOg"
      },
      "source": [
        "# Herramienta de igualdad: AI Fairness 360\n",
        "\n",
        "## Introducción\n",
        "\n",
        "En este notebook, utilizaremos la biblioteca AIF360 para medir y mitigar el sesgo en modelos de aprendizaje automático. AIF360 proporciona herramientas y algoritmos para abordar los problemas de equidad y sesgo en los datos y los modelos, lo que es fundamental en el desarrollo de IA confiable.\n",
        "\n",
        "El sesgo en los modelos de IA puede llevar a decisiones discriminatorias y perpetuar desigualdades existentes en la sociedad. Es importante que las empresas comprendan las implicaciones éticas y sociales de sus modelos y se esfuercen por garantizar la equidad y la imparcialidad.\n",
        "\n",
        "En este proyecto, utilizaremos el dataset \"Heart Disease\" de Kaggle para demostrar cómo se puede aplicar la herramienta AIF360 para mitigar el sesgo en los modelos de IA. Este dataset contiene información sobre diferentes características médicas y el objetivo es predecir la presencia de enfermedad cardíaca.\n",
        "\n",
        "Mediante la implementación de estas herramientas y técnicas, los desarrolladores pueden mejorar la confiabilidad y la equidad de sus modelos de IA, promoviendo así la adopción responsable de la inteligencia artificial.\n",
        "\n",
        "### 1. Instalación de AIF360\n",
        "\n",
        "Antes de comenzar, asegúrate de instalar la biblioteca AIF360. Puedes utilizar el siguiente comando para instalarlo:"
      ]
    },
    {
      "cell_type": "code",
      "execution_count": null,
      "metadata": {
        "colab": {
          "base_uri": "https://localhost:8080/"
        },
        "id": "hjJuf7my9Xn6",
        "outputId": "773ab799-052f-4ef6-8e45-049aeab1f9ba"
      },
      "outputs": [
        {
          "name": "stdout",
          "output_type": "stream",
          "text": [
            "Looking in indexes: https://pypi.org/simple, https://us-python.pkg.dev/colab-wheels/public/simple/\n",
            "Requirement already satisfied: aif360 in /usr/local/lib/python3.10/dist-packages (0.5.0)\n",
            "Requirement already satisfied: numpy>=1.16 in /usr/local/lib/python3.10/dist-packages (from aif360) (1.22.4)\n",
            "Requirement already satisfied: scipy>=1.2.0 in /usr/local/lib/python3.10/dist-packages (from aif360) (1.10.1)\n",
            "Requirement already satisfied: pandas>=0.24.0 in /usr/local/lib/python3.10/dist-packages (from aif360) (1.5.3)\n",
            "Requirement already satisfied: scikit-learn>=1.0 in /usr/local/lib/python3.10/dist-packages (from aif360) (1.2.2)\n",
            "Requirement already satisfied: matplotlib in /usr/local/lib/python3.10/dist-packages (from aif360) (3.7.1)\n",
            "Requirement already satisfied: python-dateutil>=2.8.1 in /usr/local/lib/python3.10/dist-packages (from pandas>=0.24.0->aif360) (2.8.2)\n",
            "Requirement already satisfied: pytz>=2020.1 in /usr/local/lib/python3.10/dist-packages (from pandas>=0.24.0->aif360) (2022.7.1)\n",
            "Requirement already satisfied: joblib>=1.1.1 in /usr/local/lib/python3.10/dist-packages (from scikit-learn>=1.0->aif360) (1.2.0)\n",
            "Requirement already satisfied: threadpoolctl>=2.0.0 in /usr/local/lib/python3.10/dist-packages (from scikit-learn>=1.0->aif360) (3.1.0)\n",
            "Requirement already satisfied: contourpy>=1.0.1 in /usr/local/lib/python3.10/dist-packages (from matplotlib->aif360) (1.0.7)\n",
            "Requirement already satisfied: cycler>=0.10 in /usr/local/lib/python3.10/dist-packages (from matplotlib->aif360) (0.11.0)\n",
            "Requirement already satisfied: fonttools>=4.22.0 in /usr/local/lib/python3.10/dist-packages (from matplotlib->aif360) (4.39.3)\n",
            "Requirement already satisfied: kiwisolver>=1.0.1 in /usr/local/lib/python3.10/dist-packages (from matplotlib->aif360) (1.4.4)\n",
            "Requirement already satisfied: packaging>=20.0 in /usr/local/lib/python3.10/dist-packages (from matplotlib->aif360) (23.1)\n",
            "Requirement already satisfied: pillow>=6.2.0 in /usr/local/lib/python3.10/dist-packages (from matplotlib->aif360) (8.4.0)\n",
            "Requirement already satisfied: pyparsing>=2.3.1 in /usr/local/lib/python3.10/dist-packages (from matplotlib->aif360) (3.0.9)\n",
            "Requirement already satisfied: six>=1.5 in /usr/local/lib/python3.10/dist-packages (from python-dateutil>=2.8.1->pandas>=0.24.0->aif360) (1.16.0)\n"
          ]
        }
      ],
      "source": [
        "!pip install aif360"
      ]
    },
    {
      "attachments": {},
      "cell_type": "markdown",
      "metadata": {
        "id": "BTCSKSBa9sV4"
      },
      "source": [
        "### 2. Carga y preprocesado del dataset\n",
        "Antes de entrenar el modelo, cargaremos el dataset de ejemplo, realizaremos una exploración inicial y dividiremos el dataset en conjuntos de entrenamiento y prueba."
      ]
    },
    {
      "cell_type": "code",
      "execution_count": null,
      "metadata": {
        "colab": {
          "base_uri": "https://localhost:8080/"
        },
        "id": "4UE7-5tu9uCv",
        "outputId": "bba64bb9-1bfe-400a-be0a-a20fe3946550"
      },
      "outputs": [
        {
          "name": "stderr",
          "output_type": "stream",
          "text": [
            "WARNING:root:No module named 'tempeh': LawSchoolGPADataset will be unavailable. To install, run:\n",
            "pip install 'aif360[LawSchoolGPA]'\n"
          ]
        }
      ],
      "source": [
        "import pandas as pd\n",
        "from aif360.datasets import BinaryLabelDataset\n",
        "\n",
        "# Cargar el dataset\n",
        "df = pd.read_csv('../resources/HeartDiseaseDataset.csv')\n",
        "\n",
        "# Convertir el DataFrame en un objeto BinaryLabelDataset\n",
        "dataset = BinaryLabelDataset(df=df, label_names=['target'], protected_attribute_names=['sex'])\n",
        "\n",
        "# Dividir el dataset en conjuntos de entrenamiento y prueba\n",
        "dataset_train, dataset_test = dataset.split([0.7], shuffle=True)"
      ]
    },
    {
      "attachments": {},
      "cell_type": "markdown",
      "metadata": {
        "id": "7CtVjABE91cd"
      },
      "source": [
        "### 3. Entrenamiento del modelo sin Adversarial Debiasing\n",
        "Una vez tenemos los datos preparados, entrenaremos el modelo básico (sín utilizar técnicas de debiasing) utilizando el conjunto de entrenamiento."
      ]
    },
    {
      "cell_type": "code",
      "execution_count": null,
      "metadata": {
        "colab": {
          "base_uri": "https://localhost:8080/"
        },
        "id": "5olseKfx93lC",
        "outputId": "a9afc4e7-85cc-4ce3-d6ee-04b1cf72be0d"
      },
      "outputs": [
        {
          "name": "stderr",
          "output_type": "stream",
          "text": [
            "WARNING:root:No module named 'fairlearn': ExponentiatedGradientReduction will be unavailable. To install, run:\n",
            "pip install 'aif360[Reductions]'\n",
            "WARNING:root:No module named 'fairlearn': GridSearchReduction will be unavailable. To install, run:\n",
            "pip install 'aif360[Reductions]'\n",
            "WARNING:root:No module named 'fairlearn': GridSearchReduction will be unavailable. To install, run:\n",
            "pip install 'aif360[Reductions]'\n",
            "WARNING:tensorflow:From /usr/local/lib/python3.10/dist-packages/tensorflow/python/util/dispatch.py:1176: calling dropout (from tensorflow.python.ops.nn_ops) with keep_prob is deprecated and will be removed in a future version.\n",
            "Instructions for updating:\n",
            "Please use `rate` instead of `keep_prob`. Rate should be set to `rate = 1 - keep_prob`.\n"
          ]
        },
        {
          "name": "stdout",
          "output_type": "stream",
          "text": [
            "epoch 0; iter: 0; batch classifier loss: 18.279371\n",
            "epoch 1; iter: 0; batch classifier loss: 13.467538\n",
            "epoch 2; iter: 0; batch classifier loss: 11.429310\n",
            "epoch 3; iter: 0; batch classifier loss: 10.424221\n",
            "epoch 4; iter: 0; batch classifier loss: 6.938514\n",
            "epoch 5; iter: 0; batch classifier loss: 7.509508\n",
            "epoch 6; iter: 0; batch classifier loss: 6.076130\n",
            "epoch 7; iter: 0; batch classifier loss: 8.947513\n",
            "epoch 8; iter: 0; batch classifier loss: 6.693895\n",
            "epoch 9; iter: 0; batch classifier loss: 10.270620\n",
            "epoch 10; iter: 0; batch classifier loss: 10.553540\n",
            "epoch 11; iter: 0; batch classifier loss: 6.937205\n",
            "epoch 12; iter: 0; batch classifier loss: 7.565112\n",
            "epoch 13; iter: 0; batch classifier loss: 6.707994\n",
            "epoch 14; iter: 0; batch classifier loss: 5.635183\n",
            "epoch 15; iter: 0; batch classifier loss: 7.327261\n",
            "epoch 16; iter: 0; batch classifier loss: 6.351450\n",
            "epoch 17; iter: 0; batch classifier loss: 6.177752\n",
            "epoch 18; iter: 0; batch classifier loss: 7.481239\n",
            "epoch 19; iter: 0; batch classifier loss: 6.995771\n",
            "epoch 20; iter: 0; batch classifier loss: 7.138114\n",
            "epoch 21; iter: 0; batch classifier loss: 6.948460\n",
            "epoch 22; iter: 0; batch classifier loss: 7.227883\n",
            "epoch 23; iter: 0; batch classifier loss: 7.058696\n",
            "epoch 24; iter: 0; batch classifier loss: 5.244983\n",
            "epoch 25; iter: 0; batch classifier loss: 5.858245\n",
            "epoch 26; iter: 0; batch classifier loss: 6.006156\n",
            "epoch 27; iter: 0; batch classifier loss: 5.639673\n",
            "epoch 28; iter: 0; batch classifier loss: 5.997488\n",
            "epoch 29; iter: 0; batch classifier loss: 5.667939\n",
            "epoch 30; iter: 0; batch classifier loss: 6.417641\n",
            "epoch 31; iter: 0; batch classifier loss: 5.717015\n",
            "epoch 32; iter: 0; batch classifier loss: 4.653970\n",
            "epoch 33; iter: 0; batch classifier loss: 5.320379\n",
            "epoch 34; iter: 0; batch classifier loss: 6.229481\n",
            "epoch 35; iter: 0; batch classifier loss: 4.213571\n",
            "epoch 36; iter: 0; batch classifier loss: 6.824788\n",
            "epoch 37; iter: 0; batch classifier loss: 6.061461\n",
            "epoch 38; iter: 0; batch classifier loss: 6.611668\n",
            "epoch 39; iter: 0; batch classifier loss: 4.561631\n",
            "epoch 40; iter: 0; batch classifier loss: 5.439918\n",
            "epoch 41; iter: 0; batch classifier loss: 5.831094\n",
            "epoch 42; iter: 0; batch classifier loss: 6.389411\n",
            "epoch 43; iter: 0; batch classifier loss: 4.110579\n",
            "epoch 44; iter: 0; batch classifier loss: 4.089862\n",
            "epoch 45; iter: 0; batch classifier loss: 4.939806\n",
            "epoch 46; iter: 0; batch classifier loss: 7.225909\n",
            "epoch 47; iter: 0; batch classifier loss: 4.451996\n",
            "epoch 48; iter: 0; batch classifier loss: 6.470943\n",
            "epoch 49; iter: 0; batch classifier loss: 5.170576\n"
          ]
        },
        {
          "data": {
            "text/plain": [
              "<aif360.algorithms.inprocessing.adversarial_debiasing.AdversarialDebiasing at 0x7fec0f78a8f0>"
            ]
          },
          "execution_count": 4,
          "metadata": {},
          "output_type": "execute_result"
        }
      ],
      "source": [
        "import tensorflow.compat.v1 as tf\n",
        "from aif360.algorithms.inprocessing import AdversarialDebiasing\n",
        "\n",
        "# Entrenar el modelo sin debiasing\n",
        "sess = tf.Session()\n",
        "tf.disable_eager_execution()\n",
        "plain_model = AdversarialDebiasing(privileged_groups=[{'sex': 1}],\n",
        "                                   unprivileged_groups=[{'sex': 0}],\n",
        "                                   scope_name='plain_classifier',\n",
        "                                   debias=False,\n",
        "                                   sess=sess)\n",
        "plain_model.fit(dataset_train)"
      ]
    },
    {
      "attachments": {},
      "cell_type": "markdown",
      "metadata": {
        "id": "o12w0YnD-wn1"
      },
      "source": [
        "### 4. Análisis de sesgo\n",
        "En esta sección, calcularemos diferentes métricas de sesgo en el dataset y evaluaremos la disparidad en las predicciones del modelo. Las métricas utilizadas son:\n",
        "\n",
        "- **Diferencia en el resultado medio entre grupos no privilegiados y privilegiados**: Esta métrica mide la diferencia promedio entre los resultados de las predicciones para los grupos no privilegiados y privilegiados. Un valor cercano a 0 indica menor sesgo.\n",
        "\n",
        "- **Disparate Impact**: Esta métrica calcula la disparidad en las tasas de predicciones entre los grupos privilegiados y no privilegiados. Un valor igual a 1 indica equidad perfecta.\n",
        "\n",
        "- **Equal Opportunity Difference**: Esta métrica mide la diferencia en la tasa de verdaderos positivos entre los grupos privilegiados y no privilegiados. Un valor cercano a 0 indica menor sesgo en la detección de casos positivos.\n",
        "\n",
        "- **Average Odds Difference**: Esta métrica mide la diferencia promedio en las tasas de verdaderos positivos y falsos positivos entre los grupos privilegiados y no privilegiados. Un valor cercano a 0 indica menor sesgo en la detección de casos positivos y negativos.\n",
        "\n",
        "- **Theil Index**: Esta métrica cuantifica la desigualdad de las predicciones entre los grupos privilegiados y no privilegiados. Un valor cercano a 0 indica mayor equidad."
      ]
    },
    {
      "cell_type": "code",
      "execution_count": null,
      "metadata": {
        "colab": {
          "base_uri": "https://localhost:8080/"
        },
        "id": "jpb5Cptk-yTW",
        "outputId": "1eb2972f-b32f-4b4c-8171-e1c4aba16402"
      },
      "outputs": [
        {
          "name": "stdout",
          "output_type": "stream",
          "text": [
            "Métricas de sesgo en el conjunto de entrenamiento:\n",
            "Diferencia en el resultado medio entre grupos no privilegiados y privilegiados: -0.10238095238095235\n",
            "Disparate Impact: 0.8506944444444445\n",
            "Equal Opportunity Difference: -0.2274170274170274\n",
            "Average Odds Difference: -0.2657329598506069\n",
            "Theil Index: 0.14886517216430437\n",
            "\n",
            "Métricas de sesgo en el conjunto de prueba:\n",
            "Diferencia en el resultado medio entre grupos no privilegiados y privilegiados: 0.016169154228855787\n",
            "Disparate Impact: 1.0285087719298247\n",
            "Equal Opportunity Difference: -0.12745098039215685\n",
            "Average Odds Difference: -0.09654402301461126\n",
            "Theil Index: 0.16311980897399664\n"
          ]
        }
      ],
      "source": [
        "from aif360.metrics import BinaryLabelDatasetMetric, ClassificationMetric\n",
        "\n",
        "# Aplicación del modelo simple a los datos de prueba\n",
        "dataset_nodebiasing_train = plain_model.predict(dataset_train)\n",
        "dataset_nodebiasing_test = plain_model.predict(dataset_test)\n",
        "\n",
        "# Calcular métricas de sesgo en el conjunto de entrenamiento\n",
        "metric_nodebiasing_train = BinaryLabelDatasetMetric(dataset_nodebiasing_train, unprivileged_groups=[{'sex': 0}], privileged_groups=[{'sex': 1}])\n",
        "classified_metric_nodebiasing_train = ClassificationMetric(dataset_train,\n",
        "                                                 dataset_nodebiasing_train,\n",
        "                                                 unprivileged_groups=[{'sex': 0}],\n",
        "                                                 privileged_groups=[{'sex': 1}])\n",
        "\n",
        "# Calcular métricas de sesgo en el conjunto de prueba\n",
        "metric_nodebiasing_test = BinaryLabelDatasetMetric(dataset_nodebiasing_test, unprivileged_groups=[{'sex': 0}], privileged_groups=[{'sex': 1}])\n",
        "classified_metric_nodebiasing_test = ClassificationMetric(dataset_test,\n",
        "                                                 dataset_nodebiasing_test,\n",
        "                                                 unprivileged_groups=[{'sex': 0}],\n",
        "                                                 privileged_groups=[{'sex': 1}])\n",
        "\n",
        "# Imprimir las métricas de sesgo\n",
        "print(\"Métricas de sesgo en el conjunto de entrenamiento:\")\n",
        "print(\"Diferencia en el resultado medio entre grupos no privilegiados y privilegiados:\", metric_nodebiasing_train.mean_difference())\n",
        "print(\"Disparate Impact:\", metric_nodebiasing_train.disparate_impact())\n",
        "print(\"Equal Opportunity Difference:\", classified_metric_nodebiasing_train.equal_opportunity_difference())\n",
        "print(\"Average Odds Difference:\", classified_metric_nodebiasing_train.average_odds_difference())\n",
        "print(\"Theil Index:\", classified_metric_nodebiasing_train.theil_index())\n",
        "\n",
        "print(\"\\nMétricas de sesgo en el conjunto de prueba:\")\n",
        "print(\"Diferencia en el resultado medio entre grupos no privilegiados y privilegiados:\", metric_nodebiasing_test.mean_difference())\n",
        "print(\"Disparate Impact:\", metric_nodebiasing_test.disparate_impact())\n",
        "print(\"Equal Opportunity Difference:\", classified_metric_nodebiasing_test.equal_opportunity_difference())\n",
        "print(\"Average Odds Difference:\", classified_metric_nodebiasing_test.average_odds_difference())\n",
        "print(\"Theil Index:\", classified_metric_nodebiasing_test.theil_index())"
      ]
    },
    {
      "attachments": {},
      "cell_type": "markdown",
      "metadata": {
        "id": "szp_5KOC_Bo1"
      },
      "source": [
        "### 5. Mitigación del sesgo con Adversarial Debiasing\n",
        "En esta sección, utilizaremos el algoritmo Adversarial Debiasing de AIF360 para mitigar el sesgo en el modelo. Entrenaremos un modelo debiased utilizando el conjunto de entrenamiento y evaluaremos su desempeño en el conjunto de prueba."
      ]
    },
    {
      "cell_type": "code",
      "execution_count": null,
      "metadata": {
        "colab": {
          "base_uri": "https://localhost:8080/"
        },
        "id": "pFXmtgNk_EJ-",
        "outputId": "c90563e9-8726-48b6-f2f1-a6880d955c81"
      },
      "outputs": [
        {
          "name": "stdout",
          "output_type": "stream",
          "text": [
            "epoch 0; iter: 0; batch classifier loss: 12.585319; batch adversarial loss: 0.690643\n",
            "epoch 1; iter: 0; batch classifier loss: 12.799636; batch adversarial loss: 0.703333\n",
            "epoch 2; iter: 0; batch classifier loss: 10.553685; batch adversarial loss: 0.741882\n",
            "epoch 3; iter: 0; batch classifier loss: 8.854447; batch adversarial loss: 0.720215\n",
            "epoch 4; iter: 0; batch classifier loss: 7.110097; batch adversarial loss: 0.687153\n",
            "epoch 5; iter: 0; batch classifier loss: 7.035353; batch adversarial loss: 0.726177\n",
            "epoch 6; iter: 0; batch classifier loss: 5.878420; batch adversarial loss: 0.722340\n",
            "epoch 7; iter: 0; batch classifier loss: 6.041943; batch adversarial loss: 0.729539\n",
            "epoch 8; iter: 0; batch classifier loss: 4.673640; batch adversarial loss: 0.747878\n",
            "epoch 9; iter: 0; batch classifier loss: 5.621240; batch adversarial loss: 0.795568\n",
            "epoch 10; iter: 0; batch classifier loss: 5.434997; batch adversarial loss: 0.737163\n",
            "epoch 11; iter: 0; batch classifier loss: 6.703222; batch adversarial loss: 0.731327\n",
            "epoch 12; iter: 0; batch classifier loss: 7.066208; batch adversarial loss: 0.741196\n",
            "epoch 13; iter: 0; batch classifier loss: 6.654431; batch adversarial loss: 0.704446\n",
            "epoch 14; iter: 0; batch classifier loss: 5.627501; batch adversarial loss: 0.781822\n",
            "epoch 15; iter: 0; batch classifier loss: 4.918756; batch adversarial loss: 0.735598\n",
            "epoch 16; iter: 0; batch classifier loss: 6.680401; batch adversarial loss: 0.773507\n",
            "epoch 17; iter: 0; batch classifier loss: 5.357246; batch adversarial loss: 0.750219\n",
            "epoch 18; iter: 0; batch classifier loss: 5.698553; batch adversarial loss: 0.704572\n",
            "epoch 19; iter: 0; batch classifier loss: 4.681838; batch adversarial loss: 0.756585\n",
            "epoch 20; iter: 0; batch classifier loss: 4.913361; batch adversarial loss: 0.761957\n",
            "epoch 21; iter: 0; batch classifier loss: 4.464104; batch adversarial loss: 0.744242\n",
            "epoch 22; iter: 0; batch classifier loss: 4.159820; batch adversarial loss: 0.740663\n",
            "epoch 23; iter: 0; batch classifier loss: 4.024549; batch adversarial loss: 0.742871\n",
            "epoch 24; iter: 0; batch classifier loss: 5.152015; batch adversarial loss: 0.707127\n",
            "epoch 25; iter: 0; batch classifier loss: 5.023723; batch adversarial loss: 0.728407\n",
            "epoch 26; iter: 0; batch classifier loss: 3.757418; batch adversarial loss: 0.701612\n",
            "epoch 27; iter: 0; batch classifier loss: 3.427008; batch adversarial loss: 0.681753\n",
            "epoch 28; iter: 0; batch classifier loss: 5.186116; batch adversarial loss: 0.729344\n",
            "epoch 29; iter: 0; batch classifier loss: 4.343204; batch adversarial loss: 0.720271\n",
            "epoch 30; iter: 0; batch classifier loss: 4.470514; batch adversarial loss: 0.726456\n",
            "epoch 31; iter: 0; batch classifier loss: 5.081848; batch adversarial loss: 0.739866\n",
            "epoch 32; iter: 0; batch classifier loss: 4.809060; batch adversarial loss: 0.683467\n",
            "epoch 33; iter: 0; batch classifier loss: 3.697816; batch adversarial loss: 0.768046\n",
            "epoch 34; iter: 0; batch classifier loss: 3.935427; batch adversarial loss: 0.760469\n",
            "epoch 35; iter: 0; batch classifier loss: 5.310598; batch adversarial loss: 0.698083\n",
            "epoch 36; iter: 0; batch classifier loss: 3.265909; batch adversarial loss: 0.777364\n",
            "epoch 37; iter: 0; batch classifier loss: 2.550232; batch adversarial loss: 0.734389\n",
            "epoch 38; iter: 0; batch classifier loss: 4.141044; batch adversarial loss: 0.726175\n",
            "epoch 39; iter: 0; batch classifier loss: 3.893316; batch adversarial loss: 0.738612\n",
            "epoch 40; iter: 0; batch classifier loss: 3.568658; batch adversarial loss: 0.771625\n",
            "epoch 41; iter: 0; batch classifier loss: 4.831911; batch adversarial loss: 0.744566\n",
            "epoch 42; iter: 0; batch classifier loss: 4.133983; batch adversarial loss: 0.750770\n",
            "epoch 43; iter: 0; batch classifier loss: 2.756981; batch adversarial loss: 0.724667\n",
            "epoch 44; iter: 0; batch classifier loss: 2.843637; batch adversarial loss: 0.751276\n",
            "epoch 45; iter: 0; batch classifier loss: 4.214954; batch adversarial loss: 0.755162\n",
            "epoch 46; iter: 0; batch classifier loss: 3.223101; batch adversarial loss: 0.710668\n",
            "epoch 47; iter: 0; batch classifier loss: 3.348961; batch adversarial loss: 0.750119\n",
            "epoch 48; iter: 0; batch classifier loss: 3.022644; batch adversarial loss: 0.745692\n",
            "epoch 49; iter: 0; batch classifier loss: 3.941284; batch adversarial loss: 0.768710\n"
          ]
        }
      ],
      "source": [
        "# Entrenar el modelo con debiasing\n",
        "sess.close()\n",
        "tf.reset_default_graph()\n",
        "debiased_model = AdversarialDebiasing(privileged_groups=[{'sex': 1}],\n",
        "                                      unprivileged_groups=[{'sex': 0}],\n",
        "                                      scope_name='debiased_classifier',\n",
        "                                      debias=True,\n",
        "                                      sess=tf.Session())\n",
        "debiased_model.fit(dataset_train)\n",
        "\n",
        "# Evaluar el modelo debiased en el conjunto de prueba\n",
        "debiased_dataset_test = debiased_model.predict(dataset_test)"
      ]
    },
    {
      "attachments": {},
      "cell_type": "markdown",
      "metadata": {
        "id": "ea2D_-xN_eW8"
      },
      "source": [
        "### 6. Evaluación del sesgo mitigado\n",
        "En esta sección, calcularemos nuevamente las métricas de sesgo en el conjunto de prueba después de aplicar la mitigación."
      ]
    },
    {
      "cell_type": "code",
      "execution_count": null,
      "metadata": {
        "colab": {
          "base_uri": "https://localhost:8080/"
        },
        "id": "zddojjf7_h0c",
        "outputId": "f6b9e82e-184c-4ee7-e41c-32d526cf58e7"
      },
      "outputs": [
        {
          "name": "stdout",
          "output_type": "stream",
          "text": [
            "Métricas de sesgo en el conjunto de entrenamiento después de la mitigación:\n",
            "Diferencia en el resultado medio entre grupos no privilegiados y privilegiados: -0.058730158730158744\n",
            "Disparate Impact: 0.9043927648578811\n",
            "Equal Opportunity Difference: -0.1821067821067821\n",
            "Average Odds Difference: -0.23352856294032764\n",
            "Theil Index: 0.17090288248763452\n",
            "\n",
            "Métricas de sesgo en el conjunto de prueba después de la mitigación:\n",
            "Diferencia en el resultado medio entre grupos no privilegiados y privilegiados: 0.1175373134328358\n",
            "Disparate Impact: 1.2316176470588234\n",
            "Equal Opportunity Difference: -0.0019607843137255943\n",
            "Average Odds Difference: -0.006771897948368605\n",
            "Theil Index: 0.1720430961007833\n"
          ]
        }
      ],
      "source": [
        "# Generar los conjuntos de datos después de la mitigación\n",
        "dataset_debiasing_train = debiased_model.predict(dataset_train)\n",
        "dataset_debiasing_test = debiased_model.predict(dataset_test)\n",
        "\n",
        "# Calcular métricas de sesgo en el conjunto de entrenamiento después de la mitigación\n",
        "metric_debiasing_train = BinaryLabelDatasetMetric(dataset_debiasing_train, unprivileged_groups=[{'sex': 0}], privileged_groups=[{'sex': 1}])\n",
        "classified_metric_debiasing_train = ClassificationMetric(dataset_train, dataset_debiasing_train,\n",
        "                                               unprivileged_groups=[{'sex': 0}],\n",
        "                                               privileged_groups=[{'sex': 1}])\n",
        "\n",
        "# Calcular métricas de sesgo en el conjunto de prueba después de la mitigación\n",
        "metric_debiasing_test = BinaryLabelDatasetMetric(dataset_debiasing_test, unprivileged_groups=[{'sex': 0}], privileged_groups=[{'sex': 1}])\n",
        "classified_metric_debiasing_test = ClassificationMetric(dataset_test,\n",
        "                                                 dataset_debiasing_test,\n",
        "                                                 unprivileged_groups=[{'sex': 0}],\n",
        "                                                 privileged_groups=[{'sex': 1}])\n",
        "\n",
        "# Imprimir las métricas de sesgo después de la mitigación\n",
        "print(\"Métricas de sesgo en el conjunto de entrenamiento después de la mitigación:\")\n",
        "print(\"Diferencia en el resultado medio entre grupos no privilegiados y privilegiados:\", metric_debiasing_train.mean_difference())\n",
        "print(\"Disparate Impact:\", metric_debiasing_train.disparate_impact())\n",
        "print(\"Equal Opportunity Difference:\", classified_metric_debiasing_train.equal_opportunity_difference())\n",
        "print(\"Average Odds Difference:\", classified_metric_debiasing_train.average_odds_difference())\n",
        "print(\"Theil Index:\", classified_metric_debiasing_train.theil_index())\n",
        "\n",
        "print(\"\\nMétricas de sesgo en el conjunto de prueba después de la mitigación:\")\n",
        "print(\"Diferencia en el resultado medio entre grupos no privilegiados y privilegiados:\", metric_debiasing_test.mean_difference())\n",
        "print(\"Disparate Impact:\", metric_debiasing_test.disparate_impact())\n",
        "print(\"Equal Opportunity Difference:\", classified_metric_debiasing_test.equal_opportunity_difference())\n",
        "print(\"Average Odds Difference:\", classified_metric_debiasing_test.average_odds_difference())\n",
        "print(\"Theil Index:\", classified_metric_debiasing_test.theil_index())\n"
      ]
    },
    {
      "attachments": {},
      "cell_type": "markdown",
      "metadata": {
        "id": "ued0Xn2RSpbx"
      },
      "source": [
        "### 7. Comparación de los resultados obtenidos\n",
        "Una vez calculadas todas las métricas, realizaremos una comparación de los resultados obtenidos antes y después de aplicar la mitigación del sesgo utilizando el algoritmo Adversarial Debiasing. De esta forma, podremos observar el impacto que ha tenido la herramienta.\n",
        "\n",
        "Para ello, generaremos un gráfico que nos permita observar de forma visual los valores obtenidos para cada métrica tanto antes como después de apliar la mitigación.\n",
        "\n",
        "Para poder interpretar los resultados correctamente, es importante recordar los valores ideales para cada métrica:\n",
        "\n",
        "Diferencia en el resultado medio entre grupos no privilegiados y\n",
        "\n",
        "*   Mean Difference: 0 (menor sesgo)\n",
        "*   Disparate Impact: 1 (equidad perfecta)\n",
        "*   Equal Opportunity Difference: 0 (igualdad de oportunidades)\n",
        "*   Average Odds Difference: 0 (igualdad de oportunidades promedio)\n",
        "*   Theil Index: 0 (mayor equidad)\n",
        "\n",
        "A continuación realizaremos la comparación de los resultados obtenidos:"
      ]
    },
    {
      "cell_type": "code",
      "execution_count": null,
      "metadata": {
        "colab": {
          "base_uri": "https://localhost:8080/",
          "height": 627
        },
        "id": "PGUz5SHeMfNN",
        "outputId": "1721425b-d379-49dc-d229-f0c80ff92e36"
      },
      "outputs": [
        {
          "data": {
            "image/png": "[encoded data removed]",
            "text/plain": [
              "<Figure size 1000x500 with 1 Axes>"
            ]
          },
          "metadata": {},
          "output_type": "display_data"
        }
      ],
      "source": [
        "import matplotlib.pyplot as plt\n",
        "\n",
        "metrics = ['Mean Difference', 'Disparate Impact', 'Equal Opportunity Difference', 'Average Odds Difference', 'Theil Index']\n",
        "\n",
        "nondebiased_values = [metric_nodebiasing_train.mean_difference(),\n",
        "                      metric_nodebiasing_train.disparate_impact(),\n",
        "                      classified_metric_nodebiasing_train.equal_opportunity_difference(),\n",
        "                      classified_metric_nodebiasing_train.average_odds_difference(),\n",
        "                      classified_metric_debiasing_train.theil_index()]\n",
        "\n",
        "debiased_values = [metric_debiasing_train.mean_difference(),\n",
        "                      metric_debiasing_train.disparate_impact(),\n",
        "                      classified_metric_debiasing_train.equal_opportunity_difference(),\n",
        "                      classified_metric_debiasing_train.average_odds_difference(),\n",
        "                      classified_metric_debiasing_train.theil_index()]\n",
        "\n",
        "plt.figure(figsize=(10, 5))\n",
        "plt.bar(metrics, nondebiased_values, label='Modelo original', alpha=0.5)\n",
        "plt.bar(metrics, debiased_values, label='Modelo mitigado', alpha=0.5)\n",
        "\n",
        "# Líneas con los valores ideales\n",
        "plt.axhline(y=0, color='blue', linestyle='--', linewidth=0.8)\n",
        "plt.axhline(y=1, color='blue', linestyle='--', linewidth=0.8)\n",
        "\n",
        "plt.xlabel('Métricas')\n",
        "plt.ylabel('Valores de las métricas')\n",
        "plt.title('Comparación de las métricas de sesgo: Original vs. Mitigado')\n",
        "plt.legend()\n",
        "plt.xticks(rotation=45)\n",
        "plt.show()"
      ]
    },
    {
      "attachments": {},
      "cell_type": "markdown",
      "metadata": {
        "id": "Eydrm3-l_pH1"
      },
      "source": [
        "### 8. Conclusiones\n",
        "En este notebook, hemos utilizado la herramienta AIF360 para medir y mitigar el sesgo en modelos de aprendizaje automático.\n",
        "\n",
        "Hemos realizado un análisis inicial de sesgo en el dataset, entrenado un modelo debiased utilizando Adversarial Debiasing y evaluado las métricas de sesgo después de la mitigación. Además, gracias a la comparación de los resultados obtenidos hemos podido demostrar la utilidad de la herramienta.\n",
        "\n",
        "AIF360 proporciona herramientas poderosas para abordar los problemas de equidad y sesgo en los modelos de aprendizaje automático."
      ]
    }
  ],
  "metadata": {
    "colab": {
      "provenance": []
    },
    "kernelspec": {
      "display_name": "Python 3",
      "name": "python3"
    },
    "language_info": {
      "name": "python"
    }
  },
  "nbformat": 4,
  "nbformat_minor": 0
}
